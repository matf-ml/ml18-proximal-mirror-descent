{
 "cells": [
  {
   "cell_type": "code",
   "execution_count": 1,
   "metadata": {},
   "outputs": [],
   "source": [
    "from IPython.display import Math"
   ]
  },
  {
   "cell_type": "markdown",
   "metadata": {},
   "source": [
    "Mirror Descent Algorithm"
   ]
  },
  {
   "cell_type": "code",
   "execution_count": 2,
   "metadata": {},
   "outputs": [
    {
     "data": {
      "text/latex": [
       "$\\displaystyle \\nabla\\Phi(x_{t+1})=\\nabla\\Phi(x_t)-\\lambda_t\\nabla f(x_t)$"
      ],
      "text/plain": [
       "<IPython.core.display.Math object>"
      ]
     },
     "execution_count": 2,
     "metadata": {},
     "output_type": "execute_result"
    }
   ],
   "source": [
    "Math('\\\\nabla\\Phi(x_{t+1})=\\\\nabla\\Phi(x_t)-\\lambda_t\\\\nabla f(x_t)')"
   ]
  },
  {
   "cell_type": "markdown",
   "metadata": {},
   "source": [
    "Bergman Divergence"
   ]
  },
  {
   "cell_type": "code",
   "execution_count": 3,
   "metadata": {},
   "outputs": [
    {
     "data": {
      "text/latex": [
       "$\\displaystyle d(x,y) = \\Phi(x) - \\Phi(y) - \\langle\\nabla \\Phi(y), x-y\\rangle$"
      ],
      "text/plain": [
       "<IPython.core.display.Math object>"
      ]
     },
     "execution_count": 3,
     "metadata": {},
     "output_type": "execute_result"
    }
   ],
   "source": [
    "Math('d(x,y) = \\Phi(x) - \\Phi(y) - \\langle\\\\nabla \\Phi(y), x-y\\\\rangle')"
   ]
  },
  {
   "cell_type": "markdown",
   "metadata": {},
   "source": [
    "Gradient Descent Optimization"
   ]
  },
  {
   "cell_type": "code",
   "execution_count": 4,
   "metadata": {},
   "outputs": [
    {
     "data": {
      "text/latex": [
       "$\\displaystyle x_{t+1} = \\arg \\min_x \\left(\\langle \\nabla f(x_t), x\\rangle + \\frac 1 \\lambda_t ||x-x_t||^2 \\right)$"
      ],
      "text/plain": [
       "<IPython.core.display.Math object>"
      ]
     },
     "execution_count": 4,
     "metadata": {},
     "output_type": "execute_result"
    }
   ],
   "source": [
    "Math('x_{t+1} = \\\\arg \\min_x \\left(\\langle \\\\nabla f(x_t), x\\\\rangle + \\\\frac 1 \\lambda_t ||x-x_t||^2 \\\\right)')"
   ]
  },
  {
   "cell_type": "markdown",
   "metadata": {},
   "source": [
    "Mirror Descent Optimization"
   ]
  },
  {
   "cell_type": "code",
   "execution_count": 5,
   "metadata": {
    "scrolled": true
   },
   "outputs": [
    {
     "data": {
      "text/latex": [
       "$\\displaystyle x_{t+1} = \\arg \\min_x \\left(\\langle \\nabla f(x_t), x\\rangle + \\frac 1 \\lambda_t d(x,x_t) \\right)$"
      ],
      "text/plain": [
       "<IPython.core.display.Math object>"
      ]
     },
     "execution_count": 5,
     "metadata": {},
     "output_type": "execute_result"
    }
   ],
   "source": [
    "Math('x_{t+1} = \\\\arg \\min_x \\left(\\\\langle \\\\nabla f(x_t), x\\\\rangle + \\\\frac 1 \\lambda_t d(x,x_t) \\\\right)')"
   ]
  },
  {
   "cell_type": "markdown",
   "metadata": {},
   "source": [
    "* Amir Beck and Marc Teboulle. Mirror descent and nonlinear projected subgradient methods for convex optimization. Operations Research Letters, 31(3):167–175, 2003"
   ]
  },
  {
   "cell_type": "markdown",
   "metadata": {},
   "source": [
    "Gradient Descent Convergence Rate"
   ]
  },
  {
   "cell_type": "code",
   "execution_count": 6,
   "metadata": {},
   "outputs": [
    {
     "data": {
      "text/latex": [
       "$\\displaystyle \\sqrt{\\frac{n}{k}}$"
      ],
      "text/plain": [
       "<IPython.core.display.Math object>"
      ]
     },
     "execution_count": 6,
     "metadata": {},
     "output_type": "execute_result"
    }
   ],
   "source": [
    "Math('\\sqrt{\\\\frac{n}{k}}')"
   ]
  },
  {
   "cell_type": "markdown",
   "metadata": {},
   "source": [
    "Mirror Descent Convergence Rate"
   ]
  },
  {
   "cell_type": "code",
   "execution_count": 7,
   "metadata": {},
   "outputs": [
    {
     "data": {
      "text/latex": [
       "$\\displaystyle \\sqrt{\\frac{\\log(n)}{k}}$"
      ],
      "text/plain": [
       "<IPython.core.display.Math object>"
      ]
     },
     "execution_count": 7,
     "metadata": {},
     "output_type": "execute_result"
    }
   ],
   "source": [
    "Math('\\sqrt{\\\\frac{\\log(n)}{k}}')"
   ]
  },
  {
   "cell_type": "markdown",
   "metadata": {},
   "source": [
    "* Reshetova Daria. Multi-Class Classification: Mirror Descent Approach. arXiv.org, 2016"
   ]
  },
  {
   "cell_type": "code",
   "execution_count": 8,
   "metadata": {},
   "outputs": [],
   "source": [
    "import numpy as np\n",
    "import pandas as pd\n",
    "import seaborn as sn\n",
    "\n",
    "from sklearn import model_selection\n",
    "from sklearn import metrics\n",
    "from sklearn import preprocessing"
   ]
  },
  {
   "cell_type": "code",
   "execution_count": 9,
   "metadata": {},
   "outputs": [],
   "source": [
    "from sklearn import datasets\n",
    "\n",
    "data = datasets.load_digits()\n",
    "x = data.data\n",
    "y = data.target"
   ]
  },
  {
   "cell_type": "code",
   "execution_count": 10,
   "metadata": {},
   "outputs": [],
   "source": [
    "x_train_validation, x_test, y_train_validation, y_test =\\\n",
    "    model_selection.train_test_split(x, y, test_size=0.33, stratify = y, random_state = 7)"
   ]
  },
  {
   "cell_type": "code",
   "execution_count": 11,
   "metadata": {},
   "outputs": [],
   "source": [
    "x_train, x_validation, y_train, y_validation =\\\n",
    "    model_selection.train_test_split(x_train_validation, y_train_validation, test_size = 0.2, stratify = y_train_validation, random_state = 7)"
   ]
  },
  {
   "cell_type": "code",
   "execution_count": 12,
   "metadata": {},
   "outputs": [],
   "source": [
    "scaler_tv = preprocessing.StandardScaler()\n",
    "scaler_tv.fit(x_train)\n",
    "x_train = scaler_tv.transform(x_train)\n",
    "x_validation = scaler_tv.transform(x_validation)"
   ]
  },
  {
   "cell_type": "code",
   "execution_count": 13,
   "metadata": {},
   "outputs": [],
   "source": [
    "scaler_tt = preprocessing.StandardScaler()\n",
    "scaler_tt.fit(x_train_validation)\n",
    "x_train_validation = scaler_tt.transform(x_train_validation)\n",
    "x_test = scaler_tt.transform(x_test)"
   ]
  },
  {
   "cell_type": "code",
   "execution_count": 14,
   "metadata": {},
   "outputs": [],
   "source": [
    "from linear_classifier import LinearSVM\n",
    "\n",
    "results = {}\n",
    "types = [\"l1\", \"l2\", \"l3\", \"l4\"]\n",
    "\n",
    "for norm in types:\n",
    "    best_val = -1\n",
    "    best_svm = None\n",
    "\n",
    "    learning_rate = [10 ** (-i) for i in range(1, 5)]\n",
    "    reg = [10 ** (-i) for i in range(1, 5)]\n",
    "    num_iters = 1000\n",
    "\n",
    "    for i in range(len(learning_rate)):\n",
    "        for j in range(len(reg)):\n",
    "\n",
    "            svm = LinearSVM()\n",
    "\n",
    "            loss_hist = svm.train(x_train, y_train, learning_rate=learning_rate[i],\n",
    "                                  reg=reg[j], norm=norm, num_iters=num_iters,\n",
    "                                  batch_size=200, verbose=False)\n",
    "\n",
    "            y_train_pred = svm.predict(x_train)\n",
    "            train_accuracy = np.mean(y_train_pred == y_train)\n",
    "            y_val_pred   = svm.predict(x_validation)\n",
    "            val_accuracy   = np.mean(y_val_pred == y_validation)\n",
    "\n",
    "            if best_val < val_accuracy:\n",
    "                best_val, best_learning_rate, best_reg = val_accuracy, learning_rate[i], reg[j]\n",
    "\n",
    "            results[norm] = (best_val, best_learning_rate, best_reg)"
   ]
  },
  {
   "cell_type": "code",
   "execution_count": 15,
   "metadata": {},
   "outputs": [
    {
     "data": {
      "text/plain": [
       "{'l1': (0.9377593360995851, 0.1, 0.01),\n",
       " 'l2': (0.9585062240663901, 0.1, 0.1),\n",
       " 'l3': (0.9585062240663901, 0.1, 0.1),\n",
       " 'l4': (0.9543568464730291, 0.1, 0.1)}"
      ]
     },
     "execution_count": 15,
     "metadata": {},
     "output_type": "execute_result"
    }
   ],
   "source": [
    "results"
   ]
  },
  {
   "cell_type": "code",
   "execution_count": 16,
   "metadata": {},
   "outputs": [],
   "source": [
    "num_iters = 1000\n",
    "loss_hist = {}\n",
    "test_accuracy = {}\n",
    "conf_matrix = {}\n",
    "\n",
    "for norm in types:\n",
    "    svm = LinearSVM()\n",
    "\n",
    "    loss_hist[norm] = svm.train(x_train_validation, y_train_validation, learning_rate=results[norm][1],\n",
    "                          reg=results[norm][2], norm=norm, num_iters=num_iters,\n",
    "                          batch_size=200, verbose=False)\n",
    "\n",
    "    y_test_pred = svm.predict(x_test)\n",
    "    test_accuracy[norm] = np.mean(y_test_pred == y_test)\n",
    "    conf_matrix[norm] = metrics.confusion_matrix(y_test, y_test_pred)"
   ]
  },
  {
   "cell_type": "code",
   "execution_count": 17,
   "metadata": {},
   "outputs": [
    {
     "data": {
      "text/plain": [
       "{'l1': 0.9107744107744108,\n",
       " 'l2': 0.9663299663299664,\n",
       " 'l3': 0.9612794612794613,\n",
       " 'l4': 0.9478114478114478}"
      ]
     },
     "execution_count": 17,
     "metadata": {},
     "output_type": "execute_result"
    }
   ],
   "source": [
    "test_accuracy"
   ]
  },
  {
   "cell_type": "code",
   "execution_count": 18,
   "metadata": {},
   "outputs": [
    {
     "data": {
      "image/png": "[encoded data removed]",
      "text/plain": [
       "<Figure size 432x288 with 1 Axes>"
      ]
     },
     "metadata": {
      "needs_background": "light"
     },
     "output_type": "display_data"
    }
   ],
   "source": [
    "import matplotlib.pyplot as plt\n",
    "\n",
    "for norm in types:\n",
    "    plt.plot(loss_hist[norm][0:100], label = norm)\n",
    "plt.xlabel('Iteration number')\n",
    "plt.ylabel('Loss value')\n",
    "plt.legend()\n",
    "plt.show()"
   ]
  },
  {
   "cell_type": "code",
   "execution_count": 19,
   "metadata": {},
   "outputs": [
    {
     "data": {
      "text/plain": [
       "<matplotlib.axes._subplots.AxesSubplot at 0xba6fb00>"
      ]
     },
     "execution_count": 19,
     "metadata": {},
     "output_type": "execute_result"
    },
    {
     "data": {
      "image/png": "[encoded data removed]",
      "text/plain": [
       "<Figure size 720x504 with 2 Axes>"
      ]
     },
     "metadata": {
      "needs_background": "light"
     },
     "output_type": "display_data"
    }
   ],
   "source": [
    "dcm = pd.DataFrame(conf_matrix[\"l2\"])\n",
    "plt.figure(figsize = (10,7))\n",
    "sn.heatmap(dcm, annot=True)"
   ]
  },
  {
   "cell_type": "code",
   "execution_count": null,
   "metadata": {},
   "outputs": [],
   "source": []
  }
 ],
 "metadata": {
  "kernelspec": {
   "display_name": "Python 3",
   "language": "python",
   "name": "python3"
  },
  "language_info": {
   "codemirror_mode": {
    "name": "ipython",
    "version": 3
   },
   "file_extension": ".py",
   "mimetype": "text/x-python",
   "name": "python",
   "nbconvert_exporter": "python",
   "pygments_lexer": "ipython3",
   "version": "3.7.3"
  }
 },
 "nbformat": 4,
 "nbformat_minor": 2
}
